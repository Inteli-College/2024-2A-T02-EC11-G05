{
 "cells": [
  {
   "cell_type": "code",
   "execution_count": null,
   "metadata": {},
   "outputs": [],
   "source": [
    "%pylab inline\n",
    "from PIL import Image\n",
    "import numpy as np\n",
    "from skimage import data\n",
    "from skimage.feature import match_template\n",
    "\n",
    "ImagenTotal = numpy.asarray(Image.open('Rst/OlivoTotal.png'))\n",
    "#multiplesizes: small, medium, large or extra\n",
    "ImagenTemplateSmall = numpy.asarray(Image.open('Rst/OlivoTemplate_small.png'))\n",
    "ImagenTemplateMedium = numpy.asarray(Image.open('Rst/OlivoTemplate_medium.png'))\n",
    "ImagenTemplateLarge = numpy.asarray(Image.open('Rst/OlivoTemplate_large.png'))\n",
    "ImagenTemplateExtra = numpy.asarray(Image.open('Rst/OlivoTemplate_extra.png'))"
   ]
  },
  {
   "cell_type": "code",
   "execution_count": null,
   "metadata": {},
   "outputs": [],
   "source": [
    "#notice that we work with one band\n",
    "imagen = ImagenTotal[:,:,1]\n",
    "arbolsmall = ImagenTemplateSmall[:,:,1]\n",
    "arbolmedium = ImagenTemplateMedium[:,:,1]\n",
    "arbollarge = ImagenTemplateLarge[:,:,1]\n",
    "arbolextra = ImagenTemplateExtra[:,:,1]\n",
    "#print(arbol)\n",
    "fig = plt.figure(figsize=(8, 1.8))\n",
    "ax1 = plt.subplot(1, 4, 1)\n",
    "ax2 = plt.subplot(1, 4, 2,sharex=ax1,sharey=ax1)\n",
    "ax3 = plt.subplot(1, 4, 3,sharex=ax1,sharey=ax1)\n",
    "ax4 = plt.subplot(1, 4, 4,sharex=ax1,sharey=ax1)\n",
    "\n",
    "ax1.imshow(arbolsmall, cmap=plt.cm.gray)\n",
    "ax1.set_title('small')\n",
    "\n",
    "ax2.imshow(arbolmedium, cmap=plt.cm.gray)\n",
    "ax2.set_title('medium')\n",
    "\n",
    "ax3.imshow(arbollarge, cmap=plt.cm.gray)\n",
    "ax3.set_title('large')\n",
    "\n",
    "ax4.imshow(arbolextra, cmap=plt.cm.gray)\n",
    "ax4.set_title('extra')"
   ]
  },
  {
   "cell_type": "code",
   "execution_count": null,
   "metadata": {
    "collapsed": true
   },
   "outputs": [],
   "source": [
    "#creating results for every tree type\n",
    "#small\n",
    "resultsmall = match_template(imagen, arbolsmall)\n",
    "resultsmallquery = np.where(resultsmall>0.85)\n",
    "#medium\n",
    "resultmedium = match_template(imagen, arbolmedium)\n",
    "resultmediumquery = np.where(resultmedium>0.85)\n",
    "#large\n",
    "resultlarge = match_template(imagen, arbollarge)\n",
    "resultlargequery = np.where(resultlarge>0.85)\n",
    "#extra\n",
    "resultextra = match_template(imagen, arbolextra)\n",
    "resultextraquery = np.where(resultextra>0.85)"
   ]
  },
  {
   "cell_type": "code",
   "execution_count": null,
   "metadata": {
    "collapsed": true
   },
   "outputs": [],
   "source": [
    "def listapuntos(result):\n",
    "    xlist = []\n",
    "    ylist = []\n",
    "    for punto in range(shape(result)[1]):\n",
    "        xlist.append(result[1][punto])\n",
    "        ylist.append(result[0][punto])\n",
    "    return xlist, ylist"
   ]
  },
  {
   "cell_type": "code",
   "execution_count": null,
   "metadata": {},
   "outputs": [],
   "source": [
    "#show the interpreted results \n",
    "#small\n",
    "plot(listapuntos(resultsmallquery)[0], listapuntos(resultsmallquery)[1], 'o', \n",
    "         markeredgecolor='g', markerfacecolor='none', markersize=10, label=\"small\")\n",
    "#medium\n",
    "plot(listapuntos(resultmediumquery)[0], listapuntos(resultmediumquery)[1], 'o', \n",
    "         markeredgecolor='r', markerfacecolor='none', markersize=10, label=\"medium\")\n",
    "#large\n",
    "plot(listapuntos(resultlargequery)[0], listapuntos(resultlargequery)[1], 'o', \n",
    "         markeredgecolor='b', markerfacecolor='none', markersize=10, label=\"large\")\n",
    "#extra\n",
    "plot(listapuntos(resultextraquery)[0], listapuntos(resultextraquery)[1], 'o', \n",
    "         markeredgecolor='y', markerfacecolor='none', markersize=10, label=\"extra\")\n",
    "imshow(ImagenTotal[10:-10,10:-10,:])\n",
    "legend(loc='center left', bbox_to_anchor=(1, 0.5))\n",
    "#figure(figsize=(12,12));\n",
    "figsize(24,24)"
   ]
  },
  {
   "cell_type": "code",
   "execution_count": null,
   "metadata": {
    "collapsed": true
   },
   "outputs": [],
   "source": []
  },
  {
   "cell_type": "code",
   "execution_count": null,
   "metadata": {
    "collapsed": true
   },
   "outputs": [],
   "source": []
  }
 ],
 "metadata": {
  "kernelspec": {
   "display_name": "Python 3",
   "language": "python",
   "name": "python3"
  },
  "language_info": {
   "codemirror_mode": {
    "name": "ipython",
    "version": 3
   },
   "file_extension": ".py",
   "mimetype": "text/x-python",
   "name": "python",
   "nbconvert_exporter": "python",
   "pygments_lexer": "ipython3",
   "version": "3.6.3"
  }
 },
 "nbformat": 4,
 "nbformat_minor": 2
}
