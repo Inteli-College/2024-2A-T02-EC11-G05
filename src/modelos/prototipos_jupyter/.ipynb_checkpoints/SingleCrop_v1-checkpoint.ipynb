{
 "cells": [
  {
   "cell_type": "code",
   "execution_count": null,
   "metadata": {},
   "outputs": [],
   "source": [
    "%pylab inline\n",
    "from PIL import Image\n",
    "ImagenTotal = numpy.asarray(Image.open('Rst/OlivoTotal.png'))\n",
    "#here you choose in between small, medium, large or extra\n",
    "ImagenTemplate = numpy.asarray(Image.open('Rst/OlivoTemplate_small.png'))"
   ]
  },
  {
   "cell_type": "code",
   "execution_count": null,
   "metadata": {},
   "outputs": [],
   "source": [
    "#notice that we work with one band\n",
    "imagen = ImagenTotal[:,:,1]\n",
    "arbol = ImagenTemplate[:,:,1]\n",
    "#print(arbol)\n",
    "imshow(arbol)"
   ]
  },
  {
   "cell_type": "code",
   "execution_count": null,
   "metadata": {},
   "outputs": [],
   "source": [
    "import numpy as np\n",
    "import matplotlib.pyplot as plt\n",
    "from skimage import data\n",
    "from skimage.feature import match_template\n",
    "\n",
    "result = match_template(imagen, arbol)\n",
    "ij = np.unravel_index(np.argmax(result), result.shape)\n",
    "x, y = ij[::-1]\n",
    "\n",
    "fig = plt.figure(figsize=(8, 3))\n",
    "ax1 = plt.subplot(1, 3, 1)\n",
    "ax2 = plt.subplot(1, 3, 2, adjustable='box-forced')\n",
    "ax3 = plt.subplot(1, 3, 3, sharex=ax2, sharey=ax2, adjustable='box-forced')\n",
    "\n",
    "ax1.imshow(arbol, cmap=plt.cm.gray)\n",
    "ax1.set_axis_off()\n",
    "ax1.set_title('template')\n",
    "\n",
    "ax2.imshow(imagen, cmap=plt.cm.gray)\n",
    "ax2.set_axis_off()\n",
    "ax2.set_title('imagen')\n",
    "# highlight matched region\n",
    "harbol, warbol = arbol.shape\n",
    "rect = plt.Rectangle((x, y), warbol, harbol, edgecolor='r', facecolor='none')\n",
    "ax2.add_patch(rect)\n",
    "\n",
    "ax3.imshow(result)\n",
    "ax3.set_axis_off()\n",
    "ax3.set_title('`match_template`\\nresult')\n",
    "# highlight matched region\n",
    "ax3.autoscale(False)\n",
    "ax3.plot(x, y, 'o', markeredgecolor='r', markerfacecolor='none', markersize=10)\n",
    "\n",
    "plt.show()"
   ]
  },
  {
   "cell_type": "code",
   "execution_count": null,
   "metadata": {},
   "outputs": [],
   "source": [
    "#closer look of the match template\n",
    "imshow(result);\n",
    "figure(figsize = (10,10));"
   ]
  },
  {
   "cell_type": "code",
   "execution_count": null,
   "metadata": {
    "collapsed": true
   },
   "outputs": [],
   "source": [
    "#filter results to match similar trees\n",
    "resultadosfiltrados = np.where(result>0.85)\n",
    "resultadomaximo = np.where(result>0.99)"
   ]
  },
  {
   "cell_type": "code",
   "execution_count": null,
   "metadata": {},
   "outputs": [],
   "source": [
    "#some parameters for the figure layout\n",
    "print(shape(resultadosfiltrados))\n",
    "print(shape(result))\n",
    "print(shape(imagen))"
   ]
  },
  {
   "cell_type": "code",
   "execution_count": null,
   "metadata": {},
   "outputs": [],
   "source": [
    "#show the interpreted results plus the best match\n",
    "for punto in range(shape(resultadosfiltrados)[1]):\n",
    "    plot(resultadosfiltrados[1][punto], resultadosfiltrados[0][punto], 'o', \n",
    "         markeredgecolor='r', markerfacecolor='none', markersize=10)\n",
    "    \n",
    "plot(resultadomaximo[1][0], resultadomaximo[0][0], 'o', \n",
    "         markeredgecolor='r', markerfacecolor='r', markersize=15)\n",
    "\n",
    "imshow(ImagenTotal[10:-10,10:-10,:])\n",
    "figsize(10,10)"
   ]
  },
  {
   "cell_type": "code",
   "execution_count": null,
   "metadata": {
    "collapsed": true
   },
   "outputs": [],
   "source": []
  }
 ],
 "metadata": {
  "kernelspec": {
   "display_name": "Python 3",
   "language": "python",
   "name": "python3"
  },
  "language_info": {
   "codemirror_mode": {
    "name": "ipython",
    "version": 3
   },
   "file_extension": ".py",
   "mimetype": "text/x-python",
   "name": "python",
   "nbconvert_exporter": "python",
   "pygments_lexer": "ipython3",
   "version": "3.6.3"
  }
 },
 "nbformat": 4,
 "nbformat_minor": 2
}
